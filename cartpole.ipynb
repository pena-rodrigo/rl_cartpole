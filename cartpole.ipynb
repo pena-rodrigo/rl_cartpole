{
  "cells": [
    {
      "cell_type": "markdown",
      "metadata": {
        "id": "view-in-github",
        "colab_type": "text"
      },
      "source": [
        "<a href=\"https://colab.research.google.com/github/pena-rodrigo/rl_cartpole/blob/main/cartpole.ipynb\" target=\"_parent\"><img src=\"https://colab.research.google.com/assets/colab-badge.svg\" alt=\"Open In Colab\"/></a>"
      ]
    },
    {
      "cell_type": "code",
      "execution_count": 1,
      "metadata": {
        "id": "GxcFcK_a8e-d"
      },
      "outputs": [],
      "source": [
        "##explore gym\n",
        "\n",
        "import gym\n",
        "import time\n",
        "env = gym.make(\"CartPole-v1\")\n",
        "observation = env.reset()\n",
        "for _ in range(1000):\n",
        "  # env.render()\n",
        "  # time.sleep(0.1)\n",
        "  action = env.action_space.sample()\n",
        "  observation, reward, done, info = env.step(action)\n",
        "    \n",
        "  if done:\n",
        "    observation = env.reset()\n",
        "env.close()"
      ]
    },
    {
      "cell_type": "code",
      "execution_count": null,
      "metadata": {
        "colab": {
          "base_uri": "https://localhost:8080/"
        },
        "id": "VqgAd3vz8e-m",
        "outputId": "74f0786f-46d5-4bea-8618-9f8c141ddfee"
      },
      "outputs": [
        {
          "output_type": "execute_result",
          "data": {
            "text/plain": [
              "{}"
            ]
          },
          "metadata": {},
          "execution_count": 8
        }
      ],
      "source": [
        "info"
      ]
    },
    {
      "cell_type": "code",
      "execution_count": 32,
      "metadata": {
        "id": "v7bZRdvi8e-o"
      },
      "outputs": [],
      "source": [
        "##put together actor class\n",
        "\n",
        "import torch\n",
        "import torch.nn as nn\n",
        "import torch.nn.functional as F\n",
        "import torch.optim as optim\n",
        "from dataclasses import dataclass\n",
        "from typing import Any\n",
        "from random import sample\n",
        "\n",
        "@dataclass\n",
        "class Sarsd:\n",
        "  state: Any\n",
        "  action: int\n",
        "  reward: float\n",
        "  next_state: Any\n",
        "  done: bool\n",
        "\n",
        "\n",
        "class DQNAgent():\n",
        "  def __init__(self, model):\n",
        "    self.model = model\n",
        "\n",
        "  def get_actions(self, observations):\n",
        "    # obs shape is (N, 4)\n",
        "    q_vals = self.model(observations)\n",
        "    # q_vals  shape (N, 2)\n",
        "\n",
        "    return q_vals.max(-1)[1]\n",
        "\n",
        "class Model(nn.Module):\n",
        "  def __init__(self, obs_shape, num_actions):\n",
        "    super(Model, self).__init__()\n",
        "    assert len(obs_shape)==1, \"This network only works for flat observations\"\n",
        "    self.obs_shape = obs_shape\n",
        "    self.num_actions= num_actions\n",
        "    self.net = torch.nn.Sequential(\n",
        "        torch.nn.Linear(obs_shape[0], 256),\n",
        "        torch.nn.ReLU(),\n",
        "        torch.nn.Linear(256, num_actions)\n",
        "    )\n",
        "    self.opt = optim.Adam(self.net.parameters(), lr=0.0001)\n",
        "\n",
        "  def forward(self, x):\n",
        "    return self.net(x)\n",
        "\n",
        "\n",
        "\n",
        "\n"
      ]
    },
    {
      "cell_type": "code",
      "source": [
        "# class ReplayBuffer\n",
        "# s, a, r, s\n",
        "\n",
        "class ReplayBuffer:\n",
        "  def __init__(self, buffer_size=100000):\n",
        "    self.buffer_size=buffer_size\n",
        "    self.buffer = []\n",
        "\n",
        "  def insert(self, sars):\n",
        "    self.buffer.append(sars)\n",
        "    self.buffer = self.buffer[-self.buffer_size:]\n",
        "\n",
        "  def sample(self, num_samples):\n",
        "    assert num_samples <= len(self.buffer)\n",
        "    return sample(self.buffer, num_samples)"
      ],
      "metadata": {
        "id": "2ctuTEZTTsss"
      },
      "execution_count": 33,
      "outputs": []
    },
    {
      "cell_type": "code",
      "source": [
        "def update_tgt_model(m,tgt):\n",
        "  tgt.load_state_dict(m.state_dict())\n",
        "\n",
        "def train_step(model, state_transitions,tgt,num_actions):\n",
        "  cur_states = torch.stack(([torch.Tensor(s.state) for s in state_transitions]))\n",
        "  rewards = torch.stack(([torch.Tensor([s.reward]) for s in state_transitions]))\n",
        "  mask = torch.stack(([torch.Tensor([0]) if s.done else torch.Tensor([1]) for s in state_transitions]))\n",
        "  next_states = torch.stack(([torch.Tensor(s.next_state) for s in state_transitions]))\n",
        "  actions = [s.action for s in state_transitions]\n",
        "\n",
        "  with torch.no_grad():\n",
        "    qvals_next = tgt(next_states).max(-1)[0] # (N, num_actions)\n",
        "\n",
        "  model.opt.zero_grad()\n",
        "\n",
        "  qvals = model(cur_states)\n",
        "  one_hot_actions = F.one_hot(torch.LongTensor(actions), num_actions)\n",
        "  loss = (rewards + mask[:,0]*qvals_next - torch.sum(qvals*one_hot_actions, -1)).mean()\n",
        "  loss.backward()\n",
        "  model.opt.step()\n",
        "  return loss\n",
        "\n",
        "env = gym.make(\"CartPole-v1\")\n",
        "last_observation = env.reset()\n",
        "\n",
        "m = Model(env.observation_space.shape, env.action_space.n)\n",
        "tgt = Model(env.observation_space.shape, env.action_space.n)\n",
        "\n",
        "rb = ReplayBuffer()\n",
        "\n",
        "# qvals = m(torch.Tensor(observation))\n",
        "\n",
        "try:\n",
        "  while True:\n",
        "    action = env.action_space.sample() #your agent takes random actions\n",
        "    observation, reward, done, info = env.step(action)\n",
        "\n",
        "    rb.insert(Sarsd(last_observation, action, reward, observation, done))\n",
        "    last_observation = observation\n",
        "\n",
        "    if done:\n",
        "      observation = env.reset()\n",
        "\n",
        "    if len(rb.buffer)> 5000:\n",
        "      loss = train_step(m, rb.sample(1000), tgt, env.action_space.n)\n",
        "      print(loss)\n",
        "      raise Exception()\n",
        "    #   import ipdb; ipdb.set_trace()\n",
        "except KeyboardInterrupt:\n",
        "  pass\n",
        "env.close()\n",
        "\n",
        "\n",
        "# for _ in range(1000):\n",
        "  # env.render()\n",
        "  # time.sleep(0.1)\n",
        "  # action = env.action_space.sample()\n",
        "  # observation, reward, done, info = env.step(action)\n",
        "    \n",
        "\n",
        "# "
      ],
      "metadata": {
        "id": "k47-1zejI43G",
        "colab": {
          "base_uri": "https://localhost:8080/",
          "height": 252
        },
        "outputId": "2ea574d6-5f9d-4885-f634-c7d47b716d32"
      },
      "execution_count": 37,
      "outputs": [
        {
          "output_type": "stream",
          "name": "stdout",
          "text": [
            "tensor(1.3283, grad_fn=<MeanBackward0>)\n"
          ]
        },
        {
          "output_type": "error",
          "ename": "Exception",
          "evalue": "ignored",
          "traceback": [
            "\u001b[0;31m---------------------------------------------------------------------------\u001b[0m",
            "\u001b[0;31mException\u001b[0m                                 Traceback (most recent call last)",
            "\u001b[0;32m<ipython-input-37-ba8dbacd6b36>\u001b[0m in \u001b[0;36m<module>\u001b[0;34m()\u001b[0m\n\u001b[1;32m     45\u001b[0m       \u001b[0mloss\u001b[0m \u001b[0;34m=\u001b[0m \u001b[0mtrain_step\u001b[0m\u001b[0;34m(\u001b[0m\u001b[0mm\u001b[0m\u001b[0;34m,\u001b[0m \u001b[0mrb\u001b[0m\u001b[0;34m.\u001b[0m\u001b[0msample\u001b[0m\u001b[0;34m(\u001b[0m\u001b[0;36m1000\u001b[0m\u001b[0;34m)\u001b[0m\u001b[0;34m,\u001b[0m \u001b[0mtgt\u001b[0m\u001b[0;34m,\u001b[0m \u001b[0menv\u001b[0m\u001b[0;34m.\u001b[0m\u001b[0maction_space\u001b[0m\u001b[0;34m.\u001b[0m\u001b[0mn\u001b[0m\u001b[0;34m)\u001b[0m\u001b[0;34m\u001b[0m\u001b[0;34m\u001b[0m\u001b[0m\n\u001b[1;32m     46\u001b[0m       \u001b[0mprint\u001b[0m\u001b[0;34m(\u001b[0m\u001b[0mloss\u001b[0m\u001b[0;34m)\u001b[0m\u001b[0;34m\u001b[0m\u001b[0;34m\u001b[0m\u001b[0m\n\u001b[0;32m---> 47\u001b[0;31m       \u001b[0;32mraise\u001b[0m \u001b[0mException\u001b[0m\u001b[0;34m(\u001b[0m\u001b[0;34m)\u001b[0m\u001b[0;34m\u001b[0m\u001b[0;34m\u001b[0m\u001b[0m\n\u001b[0m\u001b[1;32m     48\u001b[0m     \u001b[0;31m#   import ipdb; ipdb.set_trace()\u001b[0m\u001b[0;34m\u001b[0m\u001b[0;34m\u001b[0m\u001b[0;34m\u001b[0m\u001b[0m\n\u001b[1;32m     49\u001b[0m \u001b[0;32mexcept\u001b[0m \u001b[0mKeyboardInterrupt\u001b[0m\u001b[0;34m:\u001b[0m\u001b[0;34m\u001b[0m\u001b[0;34m\u001b[0m\u001b[0m\n",
            "\u001b[0;31mException\u001b[0m: "
          ]
        }
      ]
    },
    {
      "cell_type": "code",
      "source": [
        "rewards"
      ],
      "metadata": {
        "colab": {
          "base_uri": "https://localhost:8080/",
          "height": 166
        },
        "id": "634g5kBXJUeq",
        "outputId": "e217d002-7499-461d-8f45-466e18611e8f"
      },
      "execution_count": 29,
      "outputs": [
        {
          "output_type": "error",
          "ename": "NameError",
          "evalue": "ignored",
          "traceback": [
            "\u001b[0;31m---------------------------------------------------------------------------\u001b[0m",
            "\u001b[0;31mNameError\u001b[0m                                 Traceback (most recent call last)",
            "\u001b[0;32m<ipython-input-29-00b93c1db484>\u001b[0m in \u001b[0;36m<module>\u001b[0;34m()\u001b[0m\n\u001b[0;32m----> 1\u001b[0;31m \u001b[0mrewards\u001b[0m\u001b[0;34m\u001b[0m\u001b[0;34m\u001b[0m\u001b[0m\n\u001b[0m",
            "\u001b[0;31mNameError\u001b[0m: name 'rewards' is not defined"
          ]
        }
      ]
    },
    {
      "cell_type": "code",
      "source": [
        "train_step(m, rb.sample(5000), tft, 2)"
      ],
      "metadata": {
        "id": "itOHeafWJ1lV",
        "colab": {
          "base_uri": "https://localhost:8080/",
          "height": 166
        },
        "outputId": "75662740-d4aa-4768-e33f-352644d08f30"
      },
      "execution_count": 16,
      "outputs": [
        {
          "output_type": "error",
          "ename": "NameError",
          "evalue": "ignored",
          "traceback": [
            "\u001b[0;31m---------------------------------------------------------------------------\u001b[0m",
            "\u001b[0;31mNameError\u001b[0m                                 Traceback (most recent call last)",
            "\u001b[0;32m<ipython-input-16-58e4a44d1569>\u001b[0m in \u001b[0;36m<module>\u001b[0;34m()\u001b[0m\n\u001b[0;32m----> 1\u001b[0;31m \u001b[0mtrain_step\u001b[0m\u001b[0;34m(\u001b[0m\u001b[0mm\u001b[0m\u001b[0;34m,\u001b[0m \u001b[0mrb\u001b[0m\u001b[0;34m.\u001b[0m\u001b[0msample\u001b[0m\u001b[0;34m(\u001b[0m\u001b[0;36m5000\u001b[0m\u001b[0;34m)\u001b[0m\u001b[0;34m,\u001b[0m \u001b[0mtft\u001b[0m\u001b[0;34m,\u001b[0m \u001b[0;36m2\u001b[0m\u001b[0;34m)\u001b[0m\u001b[0;34m\u001b[0m\u001b[0;34m\u001b[0m\u001b[0m\n\u001b[0m",
            "\u001b[0;31mNameError\u001b[0m: name 'tft' is not defined"
          ]
        }
      ]
    },
    {
      "cell_type": "code",
      "source": [
        ""
      ],
      "metadata": {
        "id": "W-r_EkYVbPgv"
      },
      "execution_count": 14,
      "outputs": []
    }
  ],
  "metadata": {
    "kernelspec": {
      "display_name": "Python 2",
      "language": "python",
      "name": "python2"
    },
    "language_info": {
      "codemirror_mode": {
        "name": "ipython",
        "version": 2
      },
      "file_extension": ".py",
      "mimetype": "text/x-python",
      "name": "python",
      "nbconvert_exporter": "python",
      "pygments_lexer": "ipython2",
      "version": "2.7.15"
    },
    "colab": {
      "name": "cartpole.ipynb",
      "provenance": [],
      "collapsed_sections": [],
      "include_colab_link": true
    }
  },
  "nbformat": 4,
  "nbformat_minor": 0
}